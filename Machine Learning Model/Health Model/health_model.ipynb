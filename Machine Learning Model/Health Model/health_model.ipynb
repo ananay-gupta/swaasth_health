{
  "nbformat": 4,
  "nbformat_minor": 0,
  "metadata": {
    "colab": {
      "provenance": []
    },
    "kernelspec": {
      "name": "python3",
      "display_name": "Python 3"
    },
    "language_info": {
      "name": "python"
    },
    "accelerator": "GPU",
    "gpuClass": "standard"
  },
  "cells": [
    {
      "cell_type": "code",
      "execution_count": null,
      "metadata": {
        "id": "masiPdKp6Sht"
      },
      "outputs": [],
      "source": [
        "import pandas as pd\n",
        "import numpy as np\n",
        "import matplotlib.pyplot as plt\n",
        "import seaborn as sns\n"
      ]
    },
    {
      "cell_type": "code",
      "source": [
        "%matplotlib inline"
      ],
      "metadata": {
        "id": "84XFqPtszg_l"
      },
      "execution_count": null,
      "outputs": []
    },
    {
      "cell_type": "code",
      "source": [
        "dataset = pd.read_excel(\"/content/drive/MyDrive/Colab Notebooks/Dataset.xlsx\")]"
      ],
      "metadata": {
        "id": "CXw0Ym72zkod"
      },
      "execution_count": null,
      "outputs": []
    },
    {
      "cell_type": "code",
      "source": [
        "dataset.shape"
      ],
      "metadata": {
        "colab": {
          "base_uri": "https://localhost:8080/"
        },
        "id": "557gYPJ2bgux",
        "outputId": "59be2631-d855-4087-91fb-acb314f385f7"
      },
      "execution_count": null,
      "outputs": [
        {
          "output_type": "execute_result",
          "data": {
            "text/plain": [
              "(4286, 10)"
            ]
          },
          "metadata": {},
          "execution_count": 5
        }
      ]
    },
    {
      "cell_type": "code",
      "source": [
        "dataset.head(10)"
      ],
      "metadata": {
        "colab": {
          "base_uri": "https://localhost:8080/",
          "height": 363
        },
        "id": "3hRsv5p8b-RA",
        "outputId": "424cc4c1-7346-4135-d66e-e4b458d6d574"
      },
      "execution_count": null,
      "outputs": [
        {
          "output_type": "execute_result",
          "data": {
            "text/plain": [
              "   Medication  Acidious  Cold   Cough  Temperature  Heart Rate  Pulse  \\\n",
              "0           0         0      0      0           98          93     67   \n",
              "1           0         1      0      1           98         185    160   \n",
              "2           1         1      0      1          103         126    194   \n",
              "3           0         0      0      0           98          92     69   \n",
              "4           1         1      0      1          105         197    115   \n",
              "5           0         0      1      1           95          64     82   \n",
              "6           1         0      0      0           98          68     67   \n",
              "7           1         0      1      1          103         184    163   \n",
              "8           1         0      1      0          106         147    133   \n",
              "9           1         0      1      0           95          59    143   \n",
              "\n",
              "   Respiratory Rate      SPO2  Target  \n",
              "0                12  0.994164       0  \n",
              "1                47  0.913976       2  \n",
              "2                42  0.932465       1  \n",
              "3                16  0.999605       0  \n",
              "4                39  0.971081       1  \n",
              "5                42  0.929614       1  \n",
              "6                15  0.999340       0  \n",
              "7                48  0.924579       1  \n",
              "8                53  0.951885       2  \n",
              "9                18  0.914973       1  "
            ],
            "text/html": [
              "\n",
              "  <div id=\"df-4138b9d0-764c-40f8-ab9a-b71e18a743dc\">\n",
              "    <div class=\"colab-df-container\">\n",
              "      <div>\n",
              "<style scoped>\n",
              "    .dataframe tbody tr th:only-of-type {\n",
              "        vertical-align: middle;\n",
              "    }\n",
              "\n",
              "    .dataframe tbody tr th {\n",
              "        vertical-align: top;\n",
              "    }\n",
              "\n",
              "    .dataframe thead th {\n",
              "        text-align: right;\n",
              "    }\n",
              "</style>\n",
              "<table border=\"1\" class=\"dataframe\">\n",
              "  <thead>\n",
              "    <tr style=\"text-align: right;\">\n",
              "      <th></th>\n",
              "      <th>Medication</th>\n",
              "      <th>Acidious</th>\n",
              "      <th>Cold</th>\n",
              "      <th>Cough</th>\n",
              "      <th>Temperature</th>\n",
              "      <th>Heart Rate</th>\n",
              "      <th>Pulse</th>\n",
              "      <th>Respiratory Rate</th>\n",
              "      <th>SPO2</th>\n",
              "      <th>Target</th>\n",
              "    </tr>\n",
              "  </thead>\n",
              "  <tbody>\n",
              "    <tr>\n",
              "      <th>0</th>\n",
              "      <td>0</td>\n",
              "      <td>0</td>\n",
              "      <td>0</td>\n",
              "      <td>0</td>\n",
              "      <td>98</td>\n",
              "      <td>93</td>\n",
              "      <td>67</td>\n",
              "      <td>12</td>\n",
              "      <td>0.994164</td>\n",
              "      <td>0</td>\n",
              "    </tr>\n",
              "    <tr>\n",
              "      <th>1</th>\n",
              "      <td>0</td>\n",
              "      <td>1</td>\n",
              "      <td>0</td>\n",
              "      <td>1</td>\n",
              "      <td>98</td>\n",
              "      <td>185</td>\n",
              "      <td>160</td>\n",
              "      <td>47</td>\n",
              "      <td>0.913976</td>\n",
              "      <td>2</td>\n",
              "    </tr>\n",
              "    <tr>\n",
              "      <th>2</th>\n",
              "      <td>1</td>\n",
              "      <td>1</td>\n",
              "      <td>0</td>\n",
              "      <td>1</td>\n",
              "      <td>103</td>\n",
              "      <td>126</td>\n",
              "      <td>194</td>\n",
              "      <td>42</td>\n",
              "      <td>0.932465</td>\n",
              "      <td>1</td>\n",
              "    </tr>\n",
              "    <tr>\n",
              "      <th>3</th>\n",
              "      <td>0</td>\n",
              "      <td>0</td>\n",
              "      <td>0</td>\n",
              "      <td>0</td>\n",
              "      <td>98</td>\n",
              "      <td>92</td>\n",
              "      <td>69</td>\n",
              "      <td>16</td>\n",
              "      <td>0.999605</td>\n",
              "      <td>0</td>\n",
              "    </tr>\n",
              "    <tr>\n",
              "      <th>4</th>\n",
              "      <td>1</td>\n",
              "      <td>1</td>\n",
              "      <td>0</td>\n",
              "      <td>1</td>\n",
              "      <td>105</td>\n",
              "      <td>197</td>\n",
              "      <td>115</td>\n",
              "      <td>39</td>\n",
              "      <td>0.971081</td>\n",
              "      <td>1</td>\n",
              "    </tr>\n",
              "    <tr>\n",
              "      <th>5</th>\n",
              "      <td>0</td>\n",
              "      <td>0</td>\n",
              "      <td>1</td>\n",
              "      <td>1</td>\n",
              "      <td>95</td>\n",
              "      <td>64</td>\n",
              "      <td>82</td>\n",
              "      <td>42</td>\n",
              "      <td>0.929614</td>\n",
              "      <td>1</td>\n",
              "    </tr>\n",
              "    <tr>\n",
              "      <th>6</th>\n",
              "      <td>1</td>\n",
              "      <td>0</td>\n",
              "      <td>0</td>\n",
              "      <td>0</td>\n",
              "      <td>98</td>\n",
              "      <td>68</td>\n",
              "      <td>67</td>\n",
              "      <td>15</td>\n",
              "      <td>0.999340</td>\n",
              "      <td>0</td>\n",
              "    </tr>\n",
              "    <tr>\n",
              "      <th>7</th>\n",
              "      <td>1</td>\n",
              "      <td>0</td>\n",
              "      <td>1</td>\n",
              "      <td>1</td>\n",
              "      <td>103</td>\n",
              "      <td>184</td>\n",
              "      <td>163</td>\n",
              "      <td>48</td>\n",
              "      <td>0.924579</td>\n",
              "      <td>1</td>\n",
              "    </tr>\n",
              "    <tr>\n",
              "      <th>8</th>\n",
              "      <td>1</td>\n",
              "      <td>0</td>\n",
              "      <td>1</td>\n",
              "      <td>0</td>\n",
              "      <td>106</td>\n",
              "      <td>147</td>\n",
              "      <td>133</td>\n",
              "      <td>53</td>\n",
              "      <td>0.951885</td>\n",
              "      <td>2</td>\n",
              "    </tr>\n",
              "    <tr>\n",
              "      <th>9</th>\n",
              "      <td>1</td>\n",
              "      <td>0</td>\n",
              "      <td>1</td>\n",
              "      <td>0</td>\n",
              "      <td>95</td>\n",
              "      <td>59</td>\n",
              "      <td>143</td>\n",
              "      <td>18</td>\n",
              "      <td>0.914973</td>\n",
              "      <td>1</td>\n",
              "    </tr>\n",
              "  </tbody>\n",
              "</table>\n",
              "</div>\n",
              "      <button class=\"colab-df-convert\" onclick=\"convertToInteractive('df-4138b9d0-764c-40f8-ab9a-b71e18a743dc')\"\n",
              "              title=\"Convert this dataframe to an interactive table.\"\n",
              "              style=\"display:none;\">\n",
              "        \n",
              "  <svg xmlns=\"http://www.w3.org/2000/svg\" height=\"24px\"viewBox=\"0 0 24 24\"\n",
              "       width=\"24px\">\n",
              "    <path d=\"M0 0h24v24H0V0z\" fill=\"none\"/>\n",
              "    <path d=\"M18.56 5.44l.94 2.06.94-2.06 2.06-.94-2.06-.94-.94-2.06-.94 2.06-2.06.94zm-11 1L8.5 8.5l.94-2.06 2.06-.94-2.06-.94L8.5 2.5l-.94 2.06-2.06.94zm10 10l.94 2.06.94-2.06 2.06-.94-2.06-.94-.94-2.06-.94 2.06-2.06.94z\"/><path d=\"M17.41 7.96l-1.37-1.37c-.4-.4-.92-.59-1.43-.59-.52 0-1.04.2-1.43.59L10.3 9.45l-7.72 7.72c-.78.78-.78 2.05 0 2.83L4 21.41c.39.39.9.59 1.41.59.51 0 1.02-.2 1.41-.59l7.78-7.78 2.81-2.81c.8-.78.8-2.07 0-2.86zM5.41 20L4 18.59l7.72-7.72 1.47 1.35L5.41 20z\"/>\n",
              "  </svg>\n",
              "      </button>\n",
              "      \n",
              "  <style>\n",
              "    .colab-df-container {\n",
              "      display:flex;\n",
              "      flex-wrap:wrap;\n",
              "      gap: 12px;\n",
              "    }\n",
              "\n",
              "    .colab-df-convert {\n",
              "      background-color: #E8F0FE;\n",
              "      border: none;\n",
              "      border-radius: 50%;\n",
              "      cursor: pointer;\n",
              "      display: none;\n",
              "      fill: #1967D2;\n",
              "      height: 32px;\n",
              "      padding: 0 0 0 0;\n",
              "      width: 32px;\n",
              "    }\n",
              "\n",
              "    .colab-df-convert:hover {\n",
              "      background-color: #E2EBFA;\n",
              "      box-shadow: 0px 1px 2px rgba(60, 64, 67, 0.3), 0px 1px 3px 1px rgba(60, 64, 67, 0.15);\n",
              "      fill: #174EA6;\n",
              "    }\n",
              "\n",
              "    [theme=dark] .colab-df-convert {\n",
              "      background-color: #3B4455;\n",
              "      fill: #D2E3FC;\n",
              "    }\n",
              "\n",
              "    [theme=dark] .colab-df-convert:hover {\n",
              "      background-color: #434B5C;\n",
              "      box-shadow: 0px 1px 3px 1px rgba(0, 0, 0, 0.15);\n",
              "      filter: drop-shadow(0px 1px 2px rgba(0, 0, 0, 0.3));\n",
              "      fill: #FFFFFF;\n",
              "    }\n",
              "  </style>\n",
              "\n",
              "      <script>\n",
              "        const buttonEl =\n",
              "          document.querySelector('#df-4138b9d0-764c-40f8-ab9a-b71e18a743dc button.colab-df-convert');\n",
              "        buttonEl.style.display =\n",
              "          google.colab.kernel.accessAllowed ? 'block' : 'none';\n",
              "\n",
              "        async function convertToInteractive(key) {\n",
              "          const element = document.querySelector('#df-4138b9d0-764c-40f8-ab9a-b71e18a743dc');\n",
              "          const dataTable =\n",
              "            await google.colab.kernel.invokeFunction('convertToInteractive',\n",
              "                                                     [key], {});\n",
              "          if (!dataTable) return;\n",
              "\n",
              "          const docLinkHtml = 'Like what you see? Visit the ' +\n",
              "            '<a target=\"_blank\" href=https://colab.research.google.com/notebooks/data_table.ipynb>data table notebook</a>'\n",
              "            + ' to learn more about interactive tables.';\n",
              "          element.innerHTML = '';\n",
              "          dataTable['output_type'] = 'display_data';\n",
              "          await google.colab.output.renderOutput(dataTable, element);\n",
              "          const docLink = document.createElement('div');\n",
              "          docLink.innerHTML = docLinkHtml;\n",
              "          element.appendChild(docLink);\n",
              "        }\n",
              "      </script>\n",
              "    </div>\n",
              "  </div>\n",
              "  "
            ]
          },
          "metadata": {},
          "execution_count": 6
        }
      ]
    },
    {
      "cell_type": "code",
      "source": [
        "dataset.describe()"
      ],
      "metadata": {
        "colab": {
          "base_uri": "https://localhost:8080/",
          "height": 382
        },
        "id": "7LJdi_gkcAd8",
        "outputId": "2ab3c7c3-8d9e-4440-b366-5edb7e8d7720"
      },
      "execution_count": null,
      "outputs": [
        {
          "output_type": "execute_result",
          "data": {
            "text/plain": [
              "        Medication     Acidious        Cold        Cough  Temperature  \\\n",
              "count  4286.000000  4286.000000  4286.000000  4286.00000  4286.000000   \n",
              "mean      0.500233     0.491834     0.478768     0.50280   100.167989   \n",
              "std       0.500058     0.499992     0.499607     0.50005     3.203449   \n",
              "min       0.000000     0.000000     0.000000     0.00000    95.000000   \n",
              "25%       0.000000     0.000000     0.000000     0.00000    98.000000   \n",
              "50%       1.000000     0.000000     0.000000     1.00000    99.000000   \n",
              "75%       1.000000     1.000000     1.000000     1.00000   103.000000   \n",
              "max       1.000000     1.000000     1.000000     1.00000   106.000000   \n",
              "\n",
              "        Heart Rate        Pulse  Respiratory Rate         SPO2       Target  \n",
              "count  4286.000000  4286.000000       4286.000000  4286.000000  4286.000000  \n",
              "mean    115.208586   113.360243         28.911573     0.950482     1.122025  \n",
              "std      43.326482    46.123845         16.211535     0.030227     0.706228  \n",
              "min      50.000000    50.000000          6.000000     0.900010     0.000000  \n",
              "25%      77.000000    67.000000         14.000000     0.924190     1.000000  \n",
              "50%     106.000000   108.000000         25.500000     0.949038     1.000000  \n",
              "75%     152.000000   155.000000         43.000000     0.974621     2.000000  \n",
              "max     200.000000   200.000000         60.000000     0.999997     2.000000  "
            ],
            "text/html": [
              "\n",
              "  <div id=\"df-a02917a7-8b71-4511-8c4b-545cdae48264\">\n",
              "    <div class=\"colab-df-container\">\n",
              "      <div>\n",
              "<style scoped>\n",
              "    .dataframe tbody tr th:only-of-type {\n",
              "        vertical-align: middle;\n",
              "    }\n",
              "\n",
              "    .dataframe tbody tr th {\n",
              "        vertical-align: top;\n",
              "    }\n",
              "\n",
              "    .dataframe thead th {\n",
              "        text-align: right;\n",
              "    }\n",
              "</style>\n",
              "<table border=\"1\" class=\"dataframe\">\n",
              "  <thead>\n",
              "    <tr style=\"text-align: right;\">\n",
              "      <th></th>\n",
              "      <th>Medication</th>\n",
              "      <th>Acidious</th>\n",
              "      <th>Cold</th>\n",
              "      <th>Cough</th>\n",
              "      <th>Temperature</th>\n",
              "      <th>Heart Rate</th>\n",
              "      <th>Pulse</th>\n",
              "      <th>Respiratory Rate</th>\n",
              "      <th>SPO2</th>\n",
              "      <th>Target</th>\n",
              "    </tr>\n",
              "  </thead>\n",
              "  <tbody>\n",
              "    <tr>\n",
              "      <th>count</th>\n",
              "      <td>4286.000000</td>\n",
              "      <td>4286.000000</td>\n",
              "      <td>4286.000000</td>\n",
              "      <td>4286.00000</td>\n",
              "      <td>4286.000000</td>\n",
              "      <td>4286.000000</td>\n",
              "      <td>4286.000000</td>\n",
              "      <td>4286.000000</td>\n",
              "      <td>4286.000000</td>\n",
              "      <td>4286.000000</td>\n",
              "    </tr>\n",
              "    <tr>\n",
              "      <th>mean</th>\n",
              "      <td>0.500233</td>\n",
              "      <td>0.491834</td>\n",
              "      <td>0.478768</td>\n",
              "      <td>0.50280</td>\n",
              "      <td>100.167989</td>\n",
              "      <td>115.208586</td>\n",
              "      <td>113.360243</td>\n",
              "      <td>28.911573</td>\n",
              "      <td>0.950482</td>\n",
              "      <td>1.122025</td>\n",
              "    </tr>\n",
              "    <tr>\n",
              "      <th>std</th>\n",
              "      <td>0.500058</td>\n",
              "      <td>0.499992</td>\n",
              "      <td>0.499607</td>\n",
              "      <td>0.50005</td>\n",
              "      <td>3.203449</td>\n",
              "      <td>43.326482</td>\n",
              "      <td>46.123845</td>\n",
              "      <td>16.211535</td>\n",
              "      <td>0.030227</td>\n",
              "      <td>0.706228</td>\n",
              "    </tr>\n",
              "    <tr>\n",
              "      <th>min</th>\n",
              "      <td>0.000000</td>\n",
              "      <td>0.000000</td>\n",
              "      <td>0.000000</td>\n",
              "      <td>0.00000</td>\n",
              "      <td>95.000000</td>\n",
              "      <td>50.000000</td>\n",
              "      <td>50.000000</td>\n",
              "      <td>6.000000</td>\n",
              "      <td>0.900010</td>\n",
              "      <td>0.000000</td>\n",
              "    </tr>\n",
              "    <tr>\n",
              "      <th>25%</th>\n",
              "      <td>0.000000</td>\n",
              "      <td>0.000000</td>\n",
              "      <td>0.000000</td>\n",
              "      <td>0.00000</td>\n",
              "      <td>98.000000</td>\n",
              "      <td>77.000000</td>\n",
              "      <td>67.000000</td>\n",
              "      <td>14.000000</td>\n",
              "      <td>0.924190</td>\n",
              "      <td>1.000000</td>\n",
              "    </tr>\n",
              "    <tr>\n",
              "      <th>50%</th>\n",
              "      <td>1.000000</td>\n",
              "      <td>0.000000</td>\n",
              "      <td>0.000000</td>\n",
              "      <td>1.00000</td>\n",
              "      <td>99.000000</td>\n",
              "      <td>106.000000</td>\n",
              "      <td>108.000000</td>\n",
              "      <td>25.500000</td>\n",
              "      <td>0.949038</td>\n",
              "      <td>1.000000</td>\n",
              "    </tr>\n",
              "    <tr>\n",
              "      <th>75%</th>\n",
              "      <td>1.000000</td>\n",
              "      <td>1.000000</td>\n",
              "      <td>1.000000</td>\n",
              "      <td>1.00000</td>\n",
              "      <td>103.000000</td>\n",
              "      <td>152.000000</td>\n",
              "      <td>155.000000</td>\n",
              "      <td>43.000000</td>\n",
              "      <td>0.974621</td>\n",
              "      <td>2.000000</td>\n",
              "    </tr>\n",
              "    <tr>\n",
              "      <th>max</th>\n",
              "      <td>1.000000</td>\n",
              "      <td>1.000000</td>\n",
              "      <td>1.000000</td>\n",
              "      <td>1.00000</td>\n",
              "      <td>106.000000</td>\n",
              "      <td>200.000000</td>\n",
              "      <td>200.000000</td>\n",
              "      <td>60.000000</td>\n",
              "      <td>0.999997</td>\n",
              "      <td>2.000000</td>\n",
              "    </tr>\n",
              "  </tbody>\n",
              "</table>\n",
              "</div>\n",
              "      <button class=\"colab-df-convert\" onclick=\"convertToInteractive('df-a02917a7-8b71-4511-8c4b-545cdae48264')\"\n",
              "              title=\"Convert this dataframe to an interactive table.\"\n",
              "              style=\"display:none;\">\n",
              "        \n",
              "  <svg xmlns=\"http://www.w3.org/2000/svg\" height=\"24px\"viewBox=\"0 0 24 24\"\n",
              "       width=\"24px\">\n",
              "    <path d=\"M0 0h24v24H0V0z\" fill=\"none\"/>\n",
              "    <path d=\"M18.56 5.44l.94 2.06.94-2.06 2.06-.94-2.06-.94-.94-2.06-.94 2.06-2.06.94zm-11 1L8.5 8.5l.94-2.06 2.06-.94-2.06-.94L8.5 2.5l-.94 2.06-2.06.94zm10 10l.94 2.06.94-2.06 2.06-.94-2.06-.94-.94-2.06-.94 2.06-2.06.94z\"/><path d=\"M17.41 7.96l-1.37-1.37c-.4-.4-.92-.59-1.43-.59-.52 0-1.04.2-1.43.59L10.3 9.45l-7.72 7.72c-.78.78-.78 2.05 0 2.83L4 21.41c.39.39.9.59 1.41.59.51 0 1.02-.2 1.41-.59l7.78-7.78 2.81-2.81c.8-.78.8-2.07 0-2.86zM5.41 20L4 18.59l7.72-7.72 1.47 1.35L5.41 20z\"/>\n",
              "  </svg>\n",
              "      </button>\n",
              "      \n",
              "  <style>\n",
              "    .colab-df-container {\n",
              "      display:flex;\n",
              "      flex-wrap:wrap;\n",
              "      gap: 12px;\n",
              "    }\n",
              "\n",
              "    .colab-df-convert {\n",
              "      background-color: #E8F0FE;\n",
              "      border: none;\n",
              "      border-radius: 50%;\n",
              "      cursor: pointer;\n",
              "      display: none;\n",
              "      fill: #1967D2;\n",
              "      height: 32px;\n",
              "      padding: 0 0 0 0;\n",
              "      width: 32px;\n",
              "    }\n",
              "\n",
              "    .colab-df-convert:hover {\n",
              "      background-color: #E2EBFA;\n",
              "      box-shadow: 0px 1px 2px rgba(60, 64, 67, 0.3), 0px 1px 3px 1px rgba(60, 64, 67, 0.15);\n",
              "      fill: #174EA6;\n",
              "    }\n",
              "\n",
              "    [theme=dark] .colab-df-convert {\n",
              "      background-color: #3B4455;\n",
              "      fill: #D2E3FC;\n",
              "    }\n",
              "\n",
              "    [theme=dark] .colab-df-convert:hover {\n",
              "      background-color: #434B5C;\n",
              "      box-shadow: 0px 1px 3px 1px rgba(0, 0, 0, 0.15);\n",
              "      filter: drop-shadow(0px 1px 2px rgba(0, 0, 0, 0.3));\n",
              "      fill: #FFFFFF;\n",
              "    }\n",
              "  </style>\n",
              "\n",
              "      <script>\n",
              "        const buttonEl =\n",
              "          document.querySelector('#df-a02917a7-8b71-4511-8c4b-545cdae48264 button.colab-df-convert');\n",
              "        buttonEl.style.display =\n",
              "          google.colab.kernel.accessAllowed ? 'block' : 'none';\n",
              "\n",
              "        async function convertToInteractive(key) {\n",
              "          const element = document.querySelector('#df-a02917a7-8b71-4511-8c4b-545cdae48264');\n",
              "          const dataTable =\n",
              "            await google.colab.kernel.invokeFunction('convertToInteractive',\n",
              "                                                     [key], {});\n",
              "          if (!dataTable) return;\n",
              "\n",
              "          const docLinkHtml = 'Like what you see? Visit the ' +\n",
              "            '<a target=\"_blank\" href=https://colab.research.google.com/notebooks/data_table.ipynb>data table notebook</a>'\n",
              "            + ' to learn more about interactive tables.';\n",
              "          element.innerHTML = '';\n",
              "          dataTable['output_type'] = 'display_data';\n",
              "          await google.colab.output.renderOutput(dataTable, element);\n",
              "          const docLink = document.createElement('div');\n",
              "          docLink.innerHTML = docLinkHtml;\n",
              "          element.appendChild(docLink);\n",
              "        }\n",
              "      </script>\n",
              "    </div>\n",
              "  </div>\n",
              "  "
            ]
          },
          "metadata": {},
          "execution_count": 7
        }
      ]
    },
    {
      "cell_type": "code",
      "source": [
        "dataset.info()"
      ],
      "metadata": {
        "colab": {
          "base_uri": "https://localhost:8080/"
        },
        "id": "XxTdIbBocIqb",
        "outputId": "98f2bc14-8e79-4adc-d5b4-b767265c0ccf"
      },
      "execution_count": null,
      "outputs": [
        {
          "output_type": "stream",
          "name": "stdout",
          "text": [
            "<class 'pandas.core.frame.DataFrame'>\n",
            "RangeIndex: 4286 entries, 0 to 4285\n",
            "Data columns (total 10 columns):\n",
            " #   Column            Non-Null Count  Dtype  \n",
            "---  ------            --------------  -----  \n",
            " 0   Medication        4286 non-null   int64  \n",
            " 1   Acidious          4286 non-null   int64  \n",
            " 2   Cold              4286 non-null   int64  \n",
            " 3   Cough             4286 non-null   int64  \n",
            " 4   Temperature       4286 non-null   int64  \n",
            " 5   Heart Rate        4286 non-null   int64  \n",
            " 6   Pulse             4286 non-null   int64  \n",
            " 7   Respiratory Rate  4286 non-null   int64  \n",
            " 8   SPO2              4286 non-null   float64\n",
            " 9   Target            4286 non-null   int64  \n",
            "dtypes: float64(1), int64(9)\n",
            "memory usage: 335.0 KB\n"
          ]
        }
      ]
    },
    {
      "cell_type": "code",
      "source": [
        "dataset['Target'].unique()"
      ],
      "metadata": {
        "colab": {
          "base_uri": "https://localhost:8080/"
        },
        "id": "RTrkLUzBcLnR",
        "outputId": "c815ad99-b470-4edf-9235-4f7cb63a5e2d"
      },
      "execution_count": null,
      "outputs": [
        {
          "output_type": "execute_result",
          "data": {
            "text/plain": [
              "array([0, 2, 1])"
            ]
          },
          "metadata": {},
          "execution_count": 9
        }
      ]
    },
    {
      "cell_type": "code",
      "source": [
        "print(dataset.corr()[\"Target\"].abs().sort_values(ascending=False))"
      ],
      "metadata": {
        "colab": {
          "base_uri": "https://localhost:8080/"
        },
        "id": "k6uSpAP1dMbs",
        "outputId": "f0b99585-9c89-4a36-d0da-7e65df3fc678"
      },
      "execution_count": null,
      "outputs": [
        {
          "output_type": "stream",
          "name": "stdout",
          "text": [
            "Target              1.000000\n",
            "SPO2                0.581142\n",
            "Pulse               0.427410\n",
            "Respiratory Rate    0.355392\n",
            "Heart Rate          0.315617\n",
            "Temperature         0.215813\n",
            "Medication          0.117215\n",
            "Cough               0.110382\n",
            "Acidious            0.102950\n",
            "Cold                0.087045\n",
            "Name: Target, dtype: float64\n"
          ]
        }
      ]
    },
    {
      "cell_type": "code",
      "source": [
        "y = dataset[\"Target\"]\n",
        "\n",
        "sns.countplot(y)\n",
        "\n",
        "\n",
        "target_temp = dataset.Target.value_counts()\n",
        "\n",
        "print(target_temp)"
      ],
      "metadata": {
        "colab": {
          "base_uri": "https://localhost:8080/",
          "height": 403
        },
        "id": "HMqBJ63BfHth",
        "outputId": "1f9ac704-4da2-4d36-8e90-8763bc6879f2"
      },
      "execution_count": null,
      "outputs": [
        {
          "output_type": "stream",
          "name": "stdout",
          "text": [
            "1    2085\n",
            "2    1362\n",
            "0     839\n",
            "Name: Target, dtype: int64\n"
          ]
        },
        {
          "output_type": "stream",
          "name": "stderr",
          "text": [
            "/usr/local/lib/python3.8/dist-packages/seaborn/_decorators.py:36: FutureWarning: Pass the following variable as a keyword arg: x. From version 0.12, the only valid positional argument will be `data`, and passing other arguments without an explicit keyword will result in an error or misinterpretation.\n",
            "  warnings.warn(\n"
          ]
        },
        {
          "output_type": "display_data",
          "data": {
            "text/plain": [
              "<Figure size 432x288 with 1 Axes>"
            ],
            "image/png": "[encoded data removed]"
          },
          "metadata": {
            "needs_background": "light"
          }
        }
      ]
    },
    {
      "cell_type": "code",
      "source": [
        "from sklearn.model_selection import train_test_split\n",
        "\n",
        "predictors = dataset.drop(\"Target\",axis=1)\n",
        "target = dataset[\"Target\"]\n",
        "\n",
        "X_train,X_test,Y_train,Y_test = train_test_split(predictors,target,test_size=0.35,random_state = 11)\n",
        "print(X_test)"
      ],
      "metadata": {
        "colab": {
          "base_uri": "https://localhost:8080/"
        },
        "id": "xXWeSCifmXdT",
        "outputId": "3f2f8e23-4619-4734-d04c-2f60049505d1"
      },
      "execution_count": null,
      "outputs": [
        {
          "output_type": "stream",
          "name": "stdout",
          "text": [
            "      Medication  Acidious  Cold   Cough  Temperature  Heart Rate  Pulse  \\\n",
            "829            0         1      1      1          102         116     74   \n",
            "2699           1         1      0      0           96         115    165   \n",
            "1182           0         0      1      1           99          67     88   \n",
            "3376           0         1      1      0           98         183     80   \n",
            "3241           0         1      0      0           98          62     62   \n",
            "...          ...       ...    ...    ...          ...         ...    ...   \n",
            "250            1         0      0      1           99         170    163   \n",
            "1446           0         0      1      0          100          77    172   \n",
            "3342           1         1      0      0          104          68    126   \n",
            "1042           1         1      1      1           98         156     73   \n",
            "1643           1         1      0      1           96          59    174   \n",
            "\n",
            "      Respiratory Rate      SPO2  \n",
            "829                 35  0.918343  \n",
            "2699                28  0.956638  \n",
            "1182                42  0.938212  \n",
            "3376                13  0.976936  \n",
            "3241                12  0.995311  \n",
            "...                ...       ...  \n",
            "250                 47  0.916559  \n",
            "1446                22  0.913974  \n",
            "3342                17  0.916350  \n",
            "1042                46  0.960473  \n",
            "1643                 9  0.945775  \n",
            "\n",
            "[1501 rows x 9 columns]\n"
          ]
        }
      ]
    },
    {
      "cell_type": "code",
      "source": [
        "from sklearn.metrics import accuracy_score\n",
        "import tensorflow as tf\n",
        "from tensorflow import keras\n",
        "from tensorflow.keras import layers"
      ],
      "metadata": {
        "id": "tOAiJM2OnU8I"
      },
      "execution_count": null,
      "outputs": []
    },
    {
      "cell_type": "code",
      "source": [
        "from keras.models import Sequential\n",
        "from keras.layers import Dense,Activation,Layer,Lambda"
      ],
      "metadata": {
        "id": "ko32DsN4n16W"
      },
      "execution_count": null,
      "outputs": []
    },
    {
      "cell_type": "code",
      "source": [
        "model = Sequential()\n",
        "model.add(Dense(16,activation='relu'))\n",
        "model.add(Dense(3,activation='softmax'))\n",
        "\n",
        "model.compile(loss='sparse_categorical_crossentropy',optimizer='adam',metrics=['accuracy'])"
      ],
      "metadata": {
        "id": "YXbLQjFWn4h3"
      },
      "execution_count": null,
      "outputs": []
    },
    {
      "cell_type": "code",
      "source": [
        "model.fit(X_train,Y_train,epochs=150)"
      ],
      "metadata": {
        "colab": {
          "base_uri": "https://localhost:8080/"
        },
        "id": "3Zd2_nB4oKF4",
        "outputId": "df68072e-52ae-40f8-c5fa-dcacec4a8150"
      },
      "execution_count": null,
      "outputs": [
        {
          "output_type": "stream",
          "name": "stdout",
          "text": [
            "Epoch 1/150\n",
            "88/88 [==============================] - 3s 3ms/step - loss: 12.6259 - accuracy: 0.4032\n",
            "Epoch 2/150\n",
            "88/88 [==============================] - 0s 2ms/step - loss: 3.2266 - accuracy: 0.4151\n",
            "Epoch 3/150\n",
            "88/88 [==============================] - 0s 2ms/step - loss: 1.7008 - accuracy: 0.4481\n",
            "Epoch 4/150\n",
            "88/88 [==============================] - 0s 2ms/step - loss: 1.2530 - accuracy: 0.5246\n",
            "Epoch 5/150\n",
            "88/88 [==============================] - 0s 2ms/step - loss: 1.0298 - accuracy: 0.5770\n",
            "Epoch 6/150\n",
            "88/88 [==============================] - 0s 2ms/step - loss: 0.9035 - accuracy: 0.6093\n",
            "Epoch 7/150\n",
            "88/88 [==============================] - 0s 2ms/step - loss: 0.7525 - accuracy: 0.6682\n",
            "Epoch 8/150\n",
            "88/88 [==============================] - 0s 2ms/step - loss: 0.6720 - accuracy: 0.6973\n",
            "Epoch 9/150\n",
            "88/88 [==============================] - 0s 2ms/step - loss: 0.6197 - accuracy: 0.7185\n",
            "Epoch 10/150\n",
            "88/88 [==============================] - 0s 2ms/step - loss: 0.5951 - accuracy: 0.7278\n",
            "Epoch 11/150\n",
            "88/88 [==============================] - 0s 2ms/step - loss: 0.5517 - accuracy: 0.7469\n",
            "Epoch 12/150\n",
            "88/88 [==============================] - 0s 2ms/step - loss: 0.5347 - accuracy: 0.7504\n",
            "Epoch 13/150\n",
            "88/88 [==============================] - 0s 2ms/step - loss: 0.5125 - accuracy: 0.7598\n",
            "Epoch 14/150\n",
            "88/88 [==============================] - 0s 3ms/step - loss: 0.5056 - accuracy: 0.7526\n",
            "Epoch 15/150\n",
            "88/88 [==============================] - 0s 2ms/step - loss: 0.4613 - accuracy: 0.7817\n",
            "Epoch 16/150\n",
            "88/88 [==============================] - 0s 2ms/step - loss: 0.4654 - accuracy: 0.7749\n",
            "Epoch 17/150\n",
            "88/88 [==============================] - 0s 2ms/step - loss: 0.4415 - accuracy: 0.7806\n",
            "Epoch 18/150\n",
            "88/88 [==============================] - 0s 2ms/step - loss: 0.4346 - accuracy: 0.7899\n",
            "Epoch 19/150\n",
            "88/88 [==============================] - 0s 2ms/step - loss: 0.4206 - accuracy: 0.7853\n",
            "Epoch 20/150\n",
            "88/88 [==============================] - 0s 2ms/step - loss: 0.4336 - accuracy: 0.7925\n",
            "Epoch 21/150\n",
            "88/88 [==============================] - 0s 4ms/step - loss: 0.4074 - accuracy: 0.7860\n",
            "Epoch 22/150\n",
            "88/88 [==============================] - 0s 4ms/step - loss: 0.4102 - accuracy: 0.7961\n",
            "Epoch 23/150\n",
            "88/88 [==============================] - 0s 3ms/step - loss: 0.4005 - accuracy: 0.7925\n",
            "Epoch 24/150\n",
            "88/88 [==============================] - 0s 2ms/step - loss: 0.4245 - accuracy: 0.7785\n",
            "Epoch 25/150\n",
            "88/88 [==============================] - 1s 6ms/step - loss: 0.3911 - accuracy: 0.7978\n",
            "Epoch 26/150\n",
            "88/88 [==============================] - 0s 3ms/step - loss: 0.4307 - accuracy: 0.7853\n",
            "Epoch 27/150\n",
            "88/88 [==============================] - 0s 2ms/step - loss: 0.3791 - accuracy: 0.8047\n",
            "Epoch 28/150\n",
            "88/88 [==============================] - 0s 3ms/step - loss: 0.3703 - accuracy: 0.7993\n",
            "Epoch 29/150\n",
            "88/88 [==============================] - 0s 4ms/step - loss: 0.3821 - accuracy: 0.7982\n",
            "Epoch 30/150\n",
            "88/88 [==============================] - 0s 3ms/step - loss: 0.3751 - accuracy: 0.7964\n",
            "Epoch 31/150\n",
            "88/88 [==============================] - 0s 2ms/step - loss: 0.3652 - accuracy: 0.8122\n",
            "Epoch 32/150\n",
            "88/88 [==============================] - 0s 2ms/step - loss: 0.3700 - accuracy: 0.7975\n",
            "Epoch 33/150\n",
            "88/88 [==============================] - 0s 2ms/step - loss: 0.3683 - accuracy: 0.8000\n",
            "Epoch 34/150\n",
            "88/88 [==============================] - 0s 2ms/step - loss: 0.3574 - accuracy: 0.7986\n",
            "Epoch 35/150\n",
            "88/88 [==============================] - 0s 2ms/step - loss: 0.3556 - accuracy: 0.8065\n",
            "Epoch 36/150\n",
            "88/88 [==============================] - 0s 3ms/step - loss: 0.3627 - accuracy: 0.8118\n",
            "Epoch 37/150\n",
            "88/88 [==============================] - 0s 2ms/step - loss: 0.3489 - accuracy: 0.8104\n",
            "Epoch 38/150\n",
            "88/88 [==============================] - 0s 2ms/step - loss: 0.3454 - accuracy: 0.8079\n",
            "Epoch 39/150\n",
            "88/88 [==============================] - 0s 2ms/step - loss: 0.3915 - accuracy: 0.7978\n",
            "Epoch 40/150\n",
            "88/88 [==============================] - 0s 2ms/step - loss: 0.3712 - accuracy: 0.7978\n",
            "Epoch 41/150\n",
            "88/88 [==============================] - 0s 2ms/step - loss: 0.3546 - accuracy: 0.8050\n",
            "Epoch 42/150\n",
            "88/88 [==============================] - 0s 2ms/step - loss: 0.3591 - accuracy: 0.8090\n",
            "Epoch 43/150\n",
            "88/88 [==============================] - 0s 2ms/step - loss: 0.3464 - accuracy: 0.7993\n",
            "Epoch 44/150\n",
            "88/88 [==============================] - 0s 2ms/step - loss: 0.3472 - accuracy: 0.8061\n",
            "Epoch 45/150\n",
            "88/88 [==============================] - 0s 2ms/step - loss: 0.3584 - accuracy: 0.7989\n",
            "Epoch 46/150\n",
            "88/88 [==============================] - 0s 2ms/step - loss: 0.3456 - accuracy: 0.8068\n",
            "Epoch 47/150\n",
            "88/88 [==============================] - 0s 2ms/step - loss: 0.3332 - accuracy: 0.8054\n",
            "Epoch 48/150\n",
            "88/88 [==============================] - 0s 2ms/step - loss: 0.3293 - accuracy: 0.8065\n",
            "Epoch 49/150\n",
            "88/88 [==============================] - 0s 2ms/step - loss: 0.3325 - accuracy: 0.8029\n",
            "Epoch 50/150\n",
            "88/88 [==============================] - 0s 2ms/step - loss: 0.4005 - accuracy: 0.8050\n",
            "Epoch 51/150\n",
            "88/88 [==============================] - 0s 2ms/step - loss: 0.3468 - accuracy: 0.8072\n",
            "Epoch 52/150\n",
            "88/88 [==============================] - 0s 2ms/step - loss: 0.3325 - accuracy: 0.8057\n",
            "Epoch 53/150\n",
            "88/88 [==============================] - 0s 3ms/step - loss: 0.3274 - accuracy: 0.7978\n",
            "Epoch 54/150\n",
            "88/88 [==============================] - 0s 4ms/step - loss: 0.3341 - accuracy: 0.8043\n",
            "Epoch 55/150\n",
            "88/88 [==============================] - 0s 4ms/step - loss: 0.3345 - accuracy: 0.8133\n",
            "Epoch 56/150\n",
            "88/88 [==============================] - 0s 4ms/step - loss: 0.3346 - accuracy: 0.7982\n",
            "Epoch 57/150\n",
            "88/88 [==============================] - 0s 4ms/step - loss: 0.3226 - accuracy: 0.8083\n",
            "Epoch 58/150\n",
            "88/88 [==============================] - 0s 4ms/step - loss: 0.3344 - accuracy: 0.8014\n",
            "Epoch 59/150\n",
            "88/88 [==============================] - 0s 4ms/step - loss: 0.3223 - accuracy: 0.8072\n",
            "Epoch 60/150\n",
            "88/88 [==============================] - 0s 5ms/step - loss: 0.3347 - accuracy: 0.8036\n",
            "Epoch 61/150\n",
            "88/88 [==============================] - 0s 4ms/step - loss: 0.3237 - accuracy: 0.8101\n",
            "Epoch 62/150\n",
            "88/88 [==============================] - 0s 3ms/step - loss: 0.3461 - accuracy: 0.7996\n",
            "Epoch 63/150\n",
            "88/88 [==============================] - 0s 2ms/step - loss: 0.3191 - accuracy: 0.8183\n",
            "Epoch 64/150\n",
            "88/88 [==============================] - 0s 2ms/step - loss: 0.3334 - accuracy: 0.8083\n",
            "Epoch 65/150\n",
            "88/88 [==============================] - 0s 2ms/step - loss: 0.3594 - accuracy: 0.8075\n",
            "Epoch 66/150\n",
            "88/88 [==============================] - 0s 2ms/step - loss: 0.3375 - accuracy: 0.8061\n",
            "Epoch 67/150\n",
            "88/88 [==============================] - 0s 2ms/step - loss: 0.3225 - accuracy: 0.8065\n",
            "Epoch 68/150\n",
            "88/88 [==============================] - 0s 2ms/step - loss: 0.3182 - accuracy: 0.8047\n",
            "Epoch 69/150\n",
            "88/88 [==============================] - 0s 3ms/step - loss: 0.3279 - accuracy: 0.8004\n",
            "Epoch 70/150\n",
            "88/88 [==============================] - 0s 2ms/step - loss: 0.3104 - accuracy: 0.8158\n",
            "Epoch 71/150\n",
            "88/88 [==============================] - 0s 3ms/step - loss: 0.3274 - accuracy: 0.8057\n",
            "Epoch 72/150\n",
            "88/88 [==============================] - 0s 2ms/step - loss: 0.3419 - accuracy: 0.8147\n",
            "Epoch 73/150\n",
            "88/88 [==============================] - 0s 3ms/step - loss: 0.3214 - accuracy: 0.8108\n",
            "Epoch 74/150\n",
            "88/88 [==============================] - 0s 2ms/step - loss: 0.3137 - accuracy: 0.8093\n",
            "Epoch 75/150\n",
            "88/88 [==============================] - 0s 2ms/step - loss: 0.3173 - accuracy: 0.8047\n",
            "Epoch 76/150\n",
            "88/88 [==============================] - 0s 2ms/step - loss: 0.3487 - accuracy: 0.8101\n",
            "Epoch 77/150\n",
            "88/88 [==============================] - 0s 2ms/step - loss: 0.3197 - accuracy: 0.8090\n",
            "Epoch 78/150\n",
            "88/88 [==============================] - 0s 3ms/step - loss: 0.3174 - accuracy: 0.8172\n",
            "Epoch 79/150\n",
            "88/88 [==============================] - 0s 2ms/step - loss: 0.3270 - accuracy: 0.8086\n",
            "Epoch 80/150\n",
            "88/88 [==============================] - 0s 2ms/step - loss: 0.3167 - accuracy: 0.8140\n",
            "Epoch 81/150\n",
            "88/88 [==============================] - 0s 2ms/step - loss: 0.3053 - accuracy: 0.8108\n",
            "Epoch 82/150\n",
            "88/88 [==============================] - 0s 2ms/step - loss: 0.3233 - accuracy: 0.8079\n",
            "Epoch 83/150\n",
            "88/88 [==============================] - 0s 2ms/step - loss: 0.3218 - accuracy: 0.8007\n",
            "Epoch 84/150\n",
            "88/88 [==============================] - 0s 3ms/step - loss: 0.3487 - accuracy: 0.8090\n",
            "Epoch 85/150\n",
            "88/88 [==============================] - 0s 2ms/step - loss: 0.3178 - accuracy: 0.8111\n",
            "Epoch 86/150\n",
            "88/88 [==============================] - 0s 2ms/step - loss: 0.3146 - accuracy: 0.8093\n",
            "Epoch 87/150\n",
            "88/88 [==============================] - 0s 3ms/step - loss: 0.3099 - accuracy: 0.8169\n",
            "Epoch 88/150\n",
            "88/88 [==============================] - 0s 2ms/step - loss: 0.3063 - accuracy: 0.8086\n",
            "Epoch 89/150\n",
            "88/88 [==============================] - 0s 2ms/step - loss: 0.3171 - accuracy: 0.8090\n",
            "Epoch 90/150\n",
            "88/88 [==============================] - 0s 2ms/step - loss: 0.3071 - accuracy: 0.8180\n",
            "Epoch 91/150\n",
            "88/88 [==============================] - 0s 3ms/step - loss: 0.3033 - accuracy: 0.8126\n",
            "Epoch 92/150\n",
            "88/88 [==============================] - 0s 2ms/step - loss: 0.3302 - accuracy: 0.8083\n",
            "Epoch 93/150\n",
            "88/88 [==============================] - 0s 2ms/step - loss: 0.3097 - accuracy: 0.8126\n",
            "Epoch 94/150\n",
            "88/88 [==============================] - 0s 2ms/step - loss: 0.3151 - accuracy: 0.8065\n",
            "Epoch 95/150\n",
            "88/88 [==============================] - 0s 2ms/step - loss: 0.3208 - accuracy: 0.8014\n",
            "Epoch 96/150\n",
            "88/88 [==============================] - 0s 3ms/step - loss: 0.3175 - accuracy: 0.8075\n",
            "Epoch 97/150\n",
            "88/88 [==============================] - 0s 2ms/step - loss: 0.3175 - accuracy: 0.8101\n",
            "Epoch 98/150\n",
            "88/88 [==============================] - 0s 2ms/step - loss: 0.3159 - accuracy: 0.8061\n",
            "Epoch 99/150\n",
            "88/88 [==============================] - 0s 2ms/step - loss: 0.3125 - accuracy: 0.8104\n",
            "Epoch 100/150\n",
            "88/88 [==============================] - 0s 2ms/step - loss: 0.3085 - accuracy: 0.8018\n",
            "Epoch 101/150\n",
            "88/88 [==============================] - 0s 2ms/step - loss: 0.3164 - accuracy: 0.8097\n",
            "Epoch 102/150\n",
            "88/88 [==============================] - 0s 2ms/step - loss: 0.3126 - accuracy: 0.8097\n",
            "Epoch 103/150\n",
            "88/88 [==============================] - 0s 2ms/step - loss: 0.3048 - accuracy: 0.8104\n",
            "Epoch 104/150\n",
            "88/88 [==============================] - 0s 2ms/step - loss: 0.3086 - accuracy: 0.8000\n",
            "Epoch 105/150\n",
            "88/88 [==============================] - 0s 2ms/step - loss: 0.3051 - accuracy: 0.8068\n",
            "Epoch 106/150\n",
            "88/88 [==============================] - 0s 2ms/step - loss: 0.3111 - accuracy: 0.8075\n",
            "Epoch 107/150\n",
            "88/88 [==============================] - 0s 2ms/step - loss: 0.2990 - accuracy: 0.8223\n",
            "Epoch 108/150\n",
            "88/88 [==============================] - 0s 2ms/step - loss: 0.3335 - accuracy: 0.8115\n",
            "Epoch 109/150\n",
            "88/88 [==============================] - 0s 2ms/step - loss: 0.3103 - accuracy: 0.8118\n",
            "Epoch 110/150\n",
            "88/88 [==============================] - 0s 3ms/step - loss: 0.3091 - accuracy: 0.8111\n",
            "Epoch 111/150\n",
            "88/88 [==============================] - 0s 2ms/step - loss: 0.3100 - accuracy: 0.8057\n",
            "Epoch 112/150\n",
            "88/88 [==============================] - 0s 2ms/step - loss: 0.3170 - accuracy: 0.8036\n",
            "Epoch 113/150\n",
            "88/88 [==============================] - 0s 2ms/step - loss: 0.3006 - accuracy: 0.8104\n",
            "Epoch 114/150\n",
            "88/88 [==============================] - 0s 2ms/step - loss: 0.3326 - accuracy: 0.8047\n",
            "Epoch 115/150\n",
            "88/88 [==============================] - 0s 2ms/step - loss: 0.3090 - accuracy: 0.7996\n",
            "Epoch 116/150\n",
            "88/88 [==============================] - 0s 2ms/step - loss: 0.2986 - accuracy: 0.8054\n",
            "Epoch 117/150\n",
            "88/88 [==============================] - 0s 3ms/step - loss: 0.3033 - accuracy: 0.8097\n",
            "Epoch 118/150\n",
            "88/88 [==============================] - 0s 2ms/step - loss: 0.3126 - accuracy: 0.8093\n",
            "Epoch 119/150\n",
            "88/88 [==============================] - 0s 2ms/step - loss: 0.3100 - accuracy: 0.8133\n",
            "Epoch 120/150\n",
            "88/88 [==============================] - 0s 3ms/step - loss: 0.3162 - accuracy: 0.7993\n",
            "Epoch 121/150\n",
            "88/88 [==============================] - 0s 2ms/step - loss: 0.3127 - accuracy: 0.8025\n",
            "Epoch 122/150\n",
            "88/88 [==============================] - 0s 2ms/step - loss: 0.3284 - accuracy: 0.8032\n",
            "Epoch 123/150\n",
            "88/88 [==============================] - 0s 2ms/step - loss: 0.3089 - accuracy: 0.7982\n",
            "Epoch 124/150\n",
            "88/88 [==============================] - 0s 3ms/step - loss: 0.3246 - accuracy: 0.8079\n",
            "Epoch 125/150\n",
            "88/88 [==============================] - 0s 2ms/step - loss: 0.3014 - accuracy: 0.8104\n",
            "Epoch 126/150\n",
            "88/88 [==============================] - 0s 2ms/step - loss: 0.2963 - accuracy: 0.8133\n",
            "Epoch 127/150\n",
            "88/88 [==============================] - 0s 2ms/step - loss: 0.3225 - accuracy: 0.8101\n",
            "Epoch 128/150\n",
            "88/88 [==============================] - 0s 2ms/step - loss: 0.3076 - accuracy: 0.8050\n",
            "Epoch 129/150\n",
            "88/88 [==============================] - 0s 2ms/step - loss: 0.3067 - accuracy: 0.8151\n",
            "Epoch 130/150\n",
            "88/88 [==============================] - 0s 2ms/step - loss: 0.3056 - accuracy: 0.8083\n",
            "Epoch 131/150\n",
            "88/88 [==============================] - 0s 2ms/step - loss: 0.3319 - accuracy: 0.8097\n",
            "Epoch 132/150\n",
            "88/88 [==============================] - 0s 3ms/step - loss: 0.3066 - accuracy: 0.8176\n",
            "Epoch 133/150\n",
            "88/88 [==============================] - 0s 2ms/step - loss: 0.3041 - accuracy: 0.8140\n",
            "Epoch 134/150\n",
            "88/88 [==============================] - 0s 2ms/step - loss: 0.2971 - accuracy: 0.8126\n",
            "Epoch 135/150\n",
            "88/88 [==============================] - 0s 3ms/step - loss: 0.3072 - accuracy: 0.8126\n",
            "Epoch 136/150\n",
            "88/88 [==============================] - 0s 2ms/step - loss: 0.2939 - accuracy: 0.8126\n",
            "Epoch 137/150\n",
            "88/88 [==============================] - 0s 2ms/step - loss: 0.3239 - accuracy: 0.8057\n",
            "Epoch 138/150\n",
            "88/88 [==============================] - 0s 3ms/step - loss: 0.2992 - accuracy: 0.8136\n",
            "Epoch 139/150\n",
            "88/88 [==============================] - 0s 2ms/step - loss: 0.2997 - accuracy: 0.8090\n",
            "Epoch 140/150\n",
            "88/88 [==============================] - 0s 2ms/step - loss: 0.3056 - accuracy: 0.8205\n",
            "Epoch 141/150\n",
            "88/88 [==============================] - 0s 2ms/step - loss: 0.2964 - accuracy: 0.8108\n",
            "Epoch 142/150\n",
            "88/88 [==============================] - 0s 2ms/step - loss: 0.3284 - accuracy: 0.8140\n",
            "Epoch 143/150\n",
            "88/88 [==============================] - 0s 3ms/step - loss: 0.3646 - accuracy: 0.8097\n",
            "Epoch 144/150\n",
            "88/88 [==============================] - 0s 3ms/step - loss: 0.3004 - accuracy: 0.8147\n",
            "Epoch 145/150\n",
            "88/88 [==============================] - 0s 2ms/step - loss: 0.3537 - accuracy: 0.8144\n",
            "Epoch 146/150\n",
            "88/88 [==============================] - 0s 2ms/step - loss: 0.3038 - accuracy: 0.8154\n",
            "Epoch 147/150\n",
            "88/88 [==============================] - 0s 2ms/step - loss: 0.3000 - accuracy: 0.8111\n",
            "Epoch 148/150\n",
            "88/88 [==============================] - 0s 3ms/step - loss: 0.2947 - accuracy: 0.8194\n",
            "Epoch 149/150\n",
            "88/88 [==============================] - 0s 2ms/step - loss: 0.3006 - accuracy: 0.8165\n",
            "Epoch 150/150\n",
            "88/88 [==============================] - 0s 2ms/step - loss: 0.3166 - accuracy: 0.8108\n"
          ]
        },
        {
          "output_type": "execute_result",
          "data": {
            "text/plain": [
              "<keras.callbacks.History at 0x7f97603104f0>"
            ]
          },
          "metadata": {},
          "execution_count": 16
        }
      ]
    },
    {
      "cell_type": "code",
      "source": [
        "Y_pred_nn = model.predict(X_test)\n",
        "Y_pred_nn.shape\n",
        "print(Y_pred_nn)\n",
        "print(Y_test)"
      ],
      "metadata": {
        "colab": {
          "base_uri": "https://localhost:8080/"
        },
        "id": "tIkk-_jQoVi-",
        "outputId": "0bc73cb1-e5dc-4ee7-e9d4-23d98d4faf72"
      },
      "execution_count": null,
      "outputs": [
        {
          "output_type": "stream",
          "name": "stdout",
          "text": [
            "47/47 [==============================] - 0s 1ms/step\n",
            "[[2.4916236e-10 9.8210955e-01 1.7890500e-02]\n",
            " [5.9893012e-25 3.8524798e-01 6.1475205e-01]\n",
            " [5.2449686e-06 5.2478838e-01 4.7520632e-01]\n",
            " ...\n",
            " [8.0224947e-09 3.1608346e-01 6.8391657e-01]\n",
            " [1.1091166e-23 9.9979669e-01 2.0331585e-04]\n",
            " [1.3706009e-22 9.7384971e-01 2.6150275e-02]]\n",
            "829     1\n",
            "2699    2\n",
            "1182    1\n",
            "3376    2\n",
            "3241    0\n",
            "       ..\n",
            "250     1\n",
            "1446    2\n",
            "3342    1\n",
            "1042    1\n",
            "1643    1\n",
            "Name: Target, Length: 1501, dtype: int64\n"
          ]
        }
      ]
    },
    {
      "cell_type": "code",
      "source": [
        "# rounded = [round(x[0]) for x in Y_pred_nn]\n",
        "\n",
        "# Y_pred_nn = rounded\n",
        "Y_p = np.argmax(Y_pred_nn, axis = 1 )\n",
        "# for i in Y_p:\n",
        "#   print(i)"
      ],
      "metadata": {
        "id": "3c8kZky1tcvx"
      },
      "execution_count": null,
      "outputs": []
    },
    {
      "cell_type": "code",
      "source": [
        "score_nn = round(accuracy_score(Y_p,Y_test)*100,2)\n",
        "\n",
        "print(\"The accuracy score achieved using Neural Network is: \"+str(score_nn)+\" %\")"
      ],
      "metadata": {
        "colab": {
          "base_uri": "https://localhost:8080/"
        },
        "id": "Gyk-PkSXtLzJ",
        "outputId": "99c25c62-bb24-4cd3-ac07-2c8af2ed1435"
      },
      "execution_count": null,
      "outputs": [
        {
          "output_type": "stream",
          "name": "stdout",
          "text": [
            "The accuracy score achieved using Neural Network is: 81.41 %\n"
          ]
        }
      ]
    },
    {
      "cell_type": "code",
      "source": [
        "print(Y_pred_nn)\n",
        "# print(Y_test)"
      ],
      "metadata": {
        "colab": {
          "base_uri": "https://localhost:8080/"
        },
        "id": "4TVw6QwMtNmn",
        "outputId": "c9463947-0178-476a-da18-95736698710c"
      },
      "execution_count": null,
      "outputs": [
        {
          "output_type": "stream",
          "name": "stdout",
          "text": [
            "[[2.4916236e-10 9.8210955e-01 1.7890500e-02]\n",
            " [5.9893012e-25 3.8524798e-01 6.1475205e-01]\n",
            " [5.2449686e-06 5.2478838e-01 4.7520632e-01]\n",
            " ...\n",
            " [8.0224947e-09 3.1608346e-01 6.8391657e-01]\n",
            " [1.1091166e-23 9.9979669e-01 2.0331585e-04]\n",
            " [1.3706009e-22 9.7384971e-01 2.6150275e-02]]\n"
          ]
        }
      ]
    },
    {
      "cell_type": "code",
      "source": [
        "import tensorflow as tf\n",
        "from keras.models import load_model\n",
        "model.save('Apna_Model.h5')"
      ],
      "metadata": {
        "id": "zaGad5Gvu5d_"
      },
      "execution_count": null,
      "outputs": []
    },
    {
      "cell_type": "code",
      "source": [
        "arr = np.array([[1,1,0,1,103,126,194,42,0.932465334832015]])\n",
        "d = model.predict(arr)\n",
        "a = np.argmax(d , axis = 1 )"
      ],
      "metadata": {
        "colab": {
          "base_uri": "https://localhost:8080/"
        },
        "id": "oDqKHTDHEY-M",
        "outputId": "373f1e97-7923-45ff-dc72-402a6d21cc2e"
      },
      "execution_count": null,
      "outputs": [
        {
          "output_type": "stream",
          "name": "stdout",
          "text": [
            "1/1 [==============================] - 0s 46ms/step\n"
          ]
        }
      ]
    },
    {
      "cell_type": "code",
      "source": [
        "print(a)"
      ],
      "metadata": {
        "colab": {
          "base_uri": "https://localhost:8080/"
        },
        "id": "w6tEMNoZGlV4",
        "outputId": "e9c749ae-91b4-42c1-d077-25b385d9a045"
      },
      "execution_count": null,
      "outputs": [
        {
          "output_type": "stream",
          "name": "stdout",
          "text": [
            "[1]\n"
          ]
        }
      ]
    },
    {
      "cell_type": "code",
      "source": [],
      "metadata": {
        "id": "G2jbAgOYHe_m"
      },
      "execution_count": null,
      "outputs": []
    }
  ]
}